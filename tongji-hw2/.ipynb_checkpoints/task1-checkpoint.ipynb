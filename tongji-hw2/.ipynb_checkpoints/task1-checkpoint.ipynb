{
 "cells": [
  {
   "cell_type": "code",
   "execution_count": 2,
   "id": "b3431811-e1ab-4d8c-8a67-0f212c2965aa",
   "metadata": {},
   "outputs": [],
   "source": [
    "import torch\n",
    "import numpy as np\n",
    "from torchvision import datasets\n"
   ]
  },
  {
   "cell_type": "code",
   "execution_count": null,
   "id": "48db8c7f-43df-44d9-8f0f-596d6f70d551",
   "metadata": {},
   "outputs": [],
   "source": [
    "# 加载数据\n",
    "train=datasets.MNIST(root)"
   ]
  },
  {
   "cell_type": "code",
   "execution_count": null,
   "id": "12959c70-ce8b-4c6c-b666-9ae02a300b86",
   "metadata": {},
   "outputs": [],
   "source": []
  }
 ],
 "metadata": {
  "kernelspec": {
   "display_name": "Python 3 (ipykernel)",
   "language": "python",
   "name": "python3"
  },
  "language_info": {
   "codemirror_mode": {
    "name": "ipython",
    "version": 3
   },
   "file_extension": ".py",
   "mimetype": "text/x-python",
   "name": "python",
   "nbconvert_exporter": "python",
   "pygments_lexer": "ipython3",
   "version": "3.8.15"
  }
 },
 "nbformat": 4,
 "nbformat_minor": 5
}
